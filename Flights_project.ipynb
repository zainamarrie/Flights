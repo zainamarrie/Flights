{
 "cells": [
  {
   "cell_type": "code",
   "execution_count": 3,
   "metadata": {},
   "outputs": [],
   "source": [
    "import pandas as pd"
   ]
  },
  {
   "cell_type": "markdown",
   "metadata": {},
   "source": [
    "It is a flexible library used to handle and analyze data.\n",
    "\n",
    "It provides data structures such as DataFrame and Series.\n",
    "\n",
    "Purpose: It is used to analyze data and perform operations such as reading from CSV files, sorting, filtering, and statistical operations."
   ]
  },
  {
   "cell_type": "code",
   "execution_count": 4,
   "metadata": {},
   "outputs": [],
   "source": [
    "import matplotlib.pyplot as plt"
   ]
  },
  {
   "cell_type": "markdown",
   "metadata": {},
   "source": [
    "its for visulization It is a library for creating graphs and charts.\n",
    "\n",
    " Pyplot is a simplified interface for creating graphs quickly. \n",
    " \n",
    " It is used to create charts, such as line and scatter graphs, to help users visualize data."
   ]
  },
  {
   "cell_type": "code",
   "execution_count": 5,
   "metadata": {},
   "outputs": [],
   "source": [
    "from sklearn.model_selection import train_test_split"
   ]
  },
  {
   "cell_type": "markdown",
   "metadata": {},
   "source": [
    "It is used to divide the data into two sets: training set and test set.\n",
    "\n",
    "It is used to separate the data to train the model on one training set and test it on another set."
   ]
  },
  {
   "cell_type": "code",
   "execution_count": 6,
   "metadata": {},
   "outputs": [],
   "source": [
    "import seaborn as sns"
   ]
  },
  {
   "cell_type": "markdown",
   "metadata": {},
   "source": [
    "A library built on Matplotlib, providing a simpler and more aesthetic way to display statistical data. Used to plot advanced statistical graphs such as heatmaps and distributions."
   ]
  },
  {
   "cell_type": "code",
   "execution_count": 7,
   "metadata": {},
   "outputs": [],
   "source": [
    "from sklearn.linear_model import LogisticRegression"
   ]
  },
  {
   "cell_type": "markdown",
   "metadata": {},
   "source": [
    "Logistic regression is a classification algorithm based on classification probabilities.\n",
    "\n",
    "It is used to classify binary or multiclass data.\n",
    "\n",
    "It predicts the outcome based on a logistic function."
   ]
  },
  {
   "cell_type": "code",
   "execution_count": 8,
   "metadata": {},
   "outputs": [],
   "source": [
    "from sklearn.svm import SVC"
   ]
  },
  {
   "cell_type": "markdown",
   "metadata": {},
   "source": [
    "SVC (Support Vector Classifier)\n",
    "\n",
    "SVM (Support Vector Machine) classification is a model used to separate data based on optimal boundaries."
   ]
  },
  {
   "cell_type": "code",
   "execution_count": 9,
   "metadata": {},
   "outputs": [],
   "source": [
    "from sklearn.impute import SimpleImputer"
   ]
  },
  {
   "cell_type": "markdown",
   "metadata": {},
   "source": [
    "SimpleImputer is a very useful tool when dealing with missing values ​​in data sets.\n",
    " You can customize it to fit your needs and choose an appropriate imputation strategy (such as mean, median, or most frequent value)."
   ]
  },
  {
   "cell_type": "code",
   "execution_count": 10,
   "metadata": {},
   "outputs": [],
   "source": [
    "from sklearn.preprocessing import LabelEncoder"
   ]
  },
  {
   "cell_type": "markdown",
   "metadata": {},
   "source": [
    "We use LabelEncoder when we need to convert categorical data into numbers."
   ]
  },
  {
   "cell_type": "code",
   "execution_count": 11,
   "metadata": {},
   "outputs": [],
   "source": [
    "from sklearn.preprocessing import StandardScaler"
   ]
  },
  {
   "cell_type": "markdown",
   "metadata": {},
   "source": [
    "StandardScaler is used to transform data so that each column has a mean of zero and a standard deviation of one.\n",
    " This is necessary to avoid having values ​​that are too large or too small affect the performance of machine learning models."
   ]
  },
  {
   "cell_type": "code",
   "execution_count": 12,
   "metadata": {},
   "outputs": [],
   "source": [
    "from sklearn.metrics import accuracy_score"
   ]
  },
  {
   "cell_type": "markdown",
   "metadata": {},
   "source": [
    "accuracy_score is used to calculate the accuracy of the model by comparing predictions to actual labels. Accuracy is an important and easy-to-understand measure of how well a classification model predicts labels."
   ]
  },
  {
   "cell_type": "markdown",
   "metadata": {},
   "source": [
    "Read file"
   ]
  },
  {
   "cell_type": "code",
   "execution_count": 13,
   "metadata": {},
   "outputs": [],
   "source": [
    "df=pd.read_csv(\"flights.csv\")"
   ]
  },
  {
   "cell_type": "markdown",
   "metadata": {},
   "source": [
    " information about the data structure:-"
   ]
  },
  {
   "cell_type": "code",
   "execution_count": 14,
   "metadata": {},
   "outputs": [
    {
     "name": "stdout",
     "output_type": "stream",
     "text": [
      "<class 'pandas.core.frame.DataFrame'>\n",
      "RangeIndex: 1048575 entries, 0 to 1048574\n",
      "Data columns (total 31 columns):\n",
      " #   Column               Non-Null Count    Dtype  \n",
      "---  ------               --------------    -----  \n",
      " 0   YEAR                 1048575 non-null  int64  \n",
      " 1   MONTH                1048575 non-null  int64  \n",
      " 2   DAY                  1048575 non-null  int64  \n",
      " 3   DAY_OF_WEEK          1048575 non-null  int64  \n",
      " 4   AIRLINE              1048575 non-null  object \n",
      " 5   FLIGHT_NUMBER        1048575 non-null  int64  \n",
      " 6   TAIL_NUMBER          1040825 non-null  object \n",
      " 7   ORIGIN_AIRPORT       1048575 non-null  object \n",
      " 8   DESTINATION_AIRPORT  1048575 non-null  object \n",
      " 9   SCHEDULED_DEPARTURE  1048575 non-null  int64  \n",
      " 10  DEPARTURE_TIME       1009060 non-null  float64\n",
      " 11  DEPARTURE_DELAY      1009060 non-null  float64\n",
      " 12  TAXI_OUT             1008346 non-null  float64\n",
      " 13  WHEELS_OFF           1008346 non-null  float64\n",
      " 14  SCHEDULED_TIME       1048573 non-null  float64\n",
      " 15  ELAPSED_TIME         1005504 non-null  float64\n",
      " 16  AIR_TIME             1005504 non-null  float64\n",
      " 17  DISTANCE             1048575 non-null  int64  \n",
      " 18  WHEELS_ON            1007279 non-null  float64\n",
      " 19  TAXI_IN              1007279 non-null  float64\n",
      " 20  SCHEDULED_ARRIVAL    1048575 non-null  int64  \n",
      " 21  ARRIVAL_TIME         1007279 non-null  float64\n",
      " 22  ARRIVAL_DELAY        1005504 non-null  float64\n",
      " 23  DIVERTED             1048575 non-null  int64  \n",
      " 24  CANCELLED            1048575 non-null  int64  \n",
      " 25  CANCELLATION_REASON  40527 non-null    object \n",
      " 26  AIR_SYSTEM_DELAY     228528 non-null   float64\n",
      " 27  SECURITY_DELAY       228528 non-null   float64\n",
      " 28  AIRLINE_DELAY        228528 non-null   float64\n",
      " 29  LATE_AIRCRAFT_DELAY  228528 non-null   float64\n",
      " 30  WEATHER_DELAY        228528 non-null   float64\n",
      "dtypes: float64(16), int64(10), object(5)\n",
      "memory usage: 248.0+ MB\n"
     ]
    }
   ],
   "source": [
    "df.info()"
   ]
  },
  {
   "cell_type": "markdown",
   "metadata": {},
   "source": [
    "Describing Data:-"
   ]
  },
  {
   "cell_type": "code",
   "execution_count": 15,
   "metadata": {},
   "outputs": [
    {
     "data": {
      "text/html": [
       "<div>\n",
       "<style scoped>\n",
       "    .dataframe tbody tr th:only-of-type {\n",
       "        vertical-align: middle;\n",
       "    }\n",
       "\n",
       "    .dataframe tbody tr th {\n",
       "        vertical-align: top;\n",
       "    }\n",
       "\n",
       "    .dataframe thead th {\n",
       "        text-align: right;\n",
       "    }\n",
       "</style>\n",
       "<table border=\"1\" class=\"dataframe\">\n",
       "  <thead>\n",
       "    <tr style=\"text-align: right;\">\n",
       "      <th></th>\n",
       "      <th>YEAR</th>\n",
       "      <th>MONTH</th>\n",
       "      <th>DAY</th>\n",
       "      <th>DAY_OF_WEEK</th>\n",
       "      <th>FLIGHT_NUMBER</th>\n",
       "      <th>SCHEDULED_DEPARTURE</th>\n",
       "      <th>DEPARTURE_TIME</th>\n",
       "      <th>DEPARTURE_DELAY</th>\n",
       "      <th>TAXI_OUT</th>\n",
       "      <th>WHEELS_OFF</th>\n",
       "      <th>...</th>\n",
       "      <th>SCHEDULED_ARRIVAL</th>\n",
       "      <th>ARRIVAL_TIME</th>\n",
       "      <th>ARRIVAL_DELAY</th>\n",
       "      <th>DIVERTED</th>\n",
       "      <th>CANCELLED</th>\n",
       "      <th>AIR_SYSTEM_DELAY</th>\n",
       "      <th>SECURITY_DELAY</th>\n",
       "      <th>AIRLINE_DELAY</th>\n",
       "      <th>LATE_AIRCRAFT_DELAY</th>\n",
       "      <th>WEATHER_DELAY</th>\n",
       "    </tr>\n",
       "  </thead>\n",
       "  <tbody>\n",
       "    <tr>\n",
       "      <th>count</th>\n",
       "      <td>1048575.0</td>\n",
       "      <td>1.048575e+06</td>\n",
       "      <td>1.048575e+06</td>\n",
       "      <td>1.048575e+06</td>\n",
       "      <td>1.048575e+06</td>\n",
       "      <td>1.048575e+06</td>\n",
       "      <td>1.009060e+06</td>\n",
       "      <td>1.009060e+06</td>\n",
       "      <td>1.008346e+06</td>\n",
       "      <td>1.008346e+06</td>\n",
       "      <td>...</td>\n",
       "      <td>1.048575e+06</td>\n",
       "      <td>1.007279e+06</td>\n",
       "      <td>1.005504e+06</td>\n",
       "      <td>1.048575e+06</td>\n",
       "      <td>1.048575e+06</td>\n",
       "      <td>228528.000000</td>\n",
       "      <td>228528.000000</td>\n",
       "      <td>228528.000000</td>\n",
       "      <td>228528.000000</td>\n",
       "      <td>228528.000000</td>\n",
       "    </tr>\n",
       "    <tr>\n",
       "      <th>mean</th>\n",
       "      <td>2015.0</td>\n",
       "      <td>1.694297e+00</td>\n",
       "      <td>1.382097e+01</td>\n",
       "      <td>3.953196e+00</td>\n",
       "      <td>2.256759e+03</td>\n",
       "      <td>1.322632e+03</td>\n",
       "      <td>1.333705e+03</td>\n",
       "      <td>1.133485e+01</td>\n",
       "      <td>1.665380e+01</td>\n",
       "      <td>1.357382e+03</td>\n",
       "      <td>...</td>\n",
       "      <td>1.504820e+03</td>\n",
       "      <td>1.492204e+03</td>\n",
       "      <td>7.612191e+00</td>\n",
       "      <td>2.426150e-03</td>\n",
       "      <td>3.864960e-02</td>\n",
       "      <td>13.692554</td>\n",
       "      <td>0.057328</td>\n",
       "      <td>18.203577</td>\n",
       "      <td>22.921458</td>\n",
       "      <td>3.545277</td>\n",
       "    </tr>\n",
       "    <tr>\n",
       "      <th>std</th>\n",
       "      <td>0.0</td>\n",
       "      <td>7.051508e-01</td>\n",
       "      <td>8.725656e+00</td>\n",
       "      <td>1.999436e+00</td>\n",
       "      <td>1.799166e+03</td>\n",
       "      <td>4.707748e+02</td>\n",
       "      <td>4.827415e+02</td>\n",
       "      <td>3.922372e+01</td>\n",
       "      <td>1.007006e+01</td>\n",
       "      <td>4.830351e+02</td>\n",
       "      <td>...</td>\n",
       "      <td>4.865613e+02</td>\n",
       "      <td>5.071090e+02</td>\n",
       "      <td>4.209367e+01</td>\n",
       "      <td>4.919620e-02</td>\n",
       "      <td>1.927585e-01</td>\n",
       "      <td>25.524897</td>\n",
       "      <td>1.779647</td>\n",
       "      <td>46.323146</td>\n",
       "      <td>41.888498</td>\n",
       "      <td>23.611555</td>\n",
       "    </tr>\n",
       "    <tr>\n",
       "      <th>min</th>\n",
       "      <td>2015.0</td>\n",
       "      <td>1.000000e+00</td>\n",
       "      <td>1.000000e+00</td>\n",
       "      <td>1.000000e+00</td>\n",
       "      <td>1.000000e+00</td>\n",
       "      <td>1.000000e+00</td>\n",
       "      <td>1.000000e+00</td>\n",
       "      <td>-6.100000e+01</td>\n",
       "      <td>1.000000e+00</td>\n",
       "      <td>1.000000e+00</td>\n",
       "      <td>...</td>\n",
       "      <td>1.000000e+00</td>\n",
       "      <td>1.000000e+00</td>\n",
       "      <td>-8.200000e+01</td>\n",
       "      <td>0.000000e+00</td>\n",
       "      <td>0.000000e+00</td>\n",
       "      <td>0.000000</td>\n",
       "      <td>0.000000</td>\n",
       "      <td>0.000000</td>\n",
       "      <td>0.000000</td>\n",
       "      <td>0.000000</td>\n",
       "    </tr>\n",
       "    <tr>\n",
       "      <th>25%</th>\n",
       "      <td>2015.0</td>\n",
       "      <td>1.000000e+00</td>\n",
       "      <td>6.000000e+00</td>\n",
       "      <td>2.000000e+00</td>\n",
       "      <td>7.550000e+02</td>\n",
       "      <td>9.200000e+02</td>\n",
       "      <td>9.280000e+02</td>\n",
       "      <td>-5.000000e+00</td>\n",
       "      <td>1.100000e+01</td>\n",
       "      <td>9.440000e+02</td>\n",
       "      <td>...</td>\n",
       "      <td>1.120000e+03</td>\n",
       "      <td>1.115000e+03</td>\n",
       "      <td>-1.200000e+01</td>\n",
       "      <td>0.000000e+00</td>\n",
       "      <td>0.000000e+00</td>\n",
       "      <td>0.000000</td>\n",
       "      <td>0.000000</td>\n",
       "      <td>0.000000</td>\n",
       "      <td>0.000000</td>\n",
       "      <td>0.000000</td>\n",
       "    </tr>\n",
       "    <tr>\n",
       "      <th>50%</th>\n",
       "      <td>2015.0</td>\n",
       "      <td>2.000000e+00</td>\n",
       "      <td>1.300000e+01</td>\n",
       "      <td>4.000000e+00</td>\n",
       "      <td>1.725000e+03</td>\n",
       "      <td>1.319000e+03</td>\n",
       "      <td>1.329000e+03</td>\n",
       "      <td>-1.000000e+00</td>\n",
       "      <td>1.400000e+01</td>\n",
       "      <td>1.342000e+03</td>\n",
       "      <td>...</td>\n",
       "      <td>1.524000e+03</td>\n",
       "      <td>1.521000e+03</td>\n",
       "      <td>-3.000000e+00</td>\n",
       "      <td>0.000000e+00</td>\n",
       "      <td>0.000000e+00</td>\n",
       "      <td>4.000000</td>\n",
       "      <td>0.000000</td>\n",
       "      <td>2.000000</td>\n",
       "      <td>4.000000</td>\n",
       "      <td>0.000000</td>\n",
       "    </tr>\n",
       "    <tr>\n",
       "      <th>75%</th>\n",
       "      <td>2015.0</td>\n",
       "      <td>2.000000e+00</td>\n",
       "      <td>2.100000e+01</td>\n",
       "      <td>6.000000e+00</td>\n",
       "      <td>3.485000e+03</td>\n",
       "      <td>1.720000e+03</td>\n",
       "      <td>1.731000e+03</td>\n",
       "      <td>1.100000e+01</td>\n",
       "      <td>1.900000e+01</td>\n",
       "      <td>1.745000e+03</td>\n",
       "      <td>...</td>\n",
       "      <td>1.915000e+03</td>\n",
       "      <td>1.917000e+03</td>\n",
       "      <td>1.200000e+01</td>\n",
       "      <td>0.000000e+00</td>\n",
       "      <td>0.000000e+00</td>\n",
       "      <td>19.000000</td>\n",
       "      <td>0.000000</td>\n",
       "      <td>18.000000</td>\n",
       "      <td>29.000000</td>\n",
       "      <td>0.000000</td>\n",
       "    </tr>\n",
       "    <tr>\n",
       "      <th>max</th>\n",
       "      <td>2015.0</td>\n",
       "      <td>3.000000e+00</td>\n",
       "      <td>3.100000e+01</td>\n",
       "      <td>7.000000e+00</td>\n",
       "      <td>9.794000e+03</td>\n",
       "      <td>2.359000e+03</td>\n",
       "      <td>2.400000e+03</td>\n",
       "      <td>1.988000e+03</td>\n",
       "      <td>2.250000e+02</td>\n",
       "      <td>2.400000e+03</td>\n",
       "      <td>...</td>\n",
       "      <td>2.359000e+03</td>\n",
       "      <td>2.400000e+03</td>\n",
       "      <td>1.971000e+03</td>\n",
       "      <td>1.000000e+00</td>\n",
       "      <td>1.000000e+00</td>\n",
       "      <td>830.000000</td>\n",
       "      <td>241.000000</td>\n",
       "      <td>1971.000000</td>\n",
       "      <td>1313.000000</td>\n",
       "      <td>1152.000000</td>\n",
       "    </tr>\n",
       "  </tbody>\n",
       "</table>\n",
       "<p>8 rows × 26 columns</p>\n",
       "</div>"
      ],
      "text/plain": [
       "            YEAR         MONTH           DAY   DAY_OF_WEEK  FLIGHT_NUMBER  \\\n",
       "count  1048575.0  1.048575e+06  1.048575e+06  1.048575e+06   1.048575e+06   \n",
       "mean      2015.0  1.694297e+00  1.382097e+01  3.953196e+00   2.256759e+03   \n",
       "std          0.0  7.051508e-01  8.725656e+00  1.999436e+00   1.799166e+03   \n",
       "min       2015.0  1.000000e+00  1.000000e+00  1.000000e+00   1.000000e+00   \n",
       "25%       2015.0  1.000000e+00  6.000000e+00  2.000000e+00   7.550000e+02   \n",
       "50%       2015.0  2.000000e+00  1.300000e+01  4.000000e+00   1.725000e+03   \n",
       "75%       2015.0  2.000000e+00  2.100000e+01  6.000000e+00   3.485000e+03   \n",
       "max       2015.0  3.000000e+00  3.100000e+01  7.000000e+00   9.794000e+03   \n",
       "\n",
       "       SCHEDULED_DEPARTURE  DEPARTURE_TIME  DEPARTURE_DELAY      TAXI_OUT  \\\n",
       "count         1.048575e+06    1.009060e+06     1.009060e+06  1.008346e+06   \n",
       "mean          1.322632e+03    1.333705e+03     1.133485e+01  1.665380e+01   \n",
       "std           4.707748e+02    4.827415e+02     3.922372e+01  1.007006e+01   \n",
       "min           1.000000e+00    1.000000e+00    -6.100000e+01  1.000000e+00   \n",
       "25%           9.200000e+02    9.280000e+02    -5.000000e+00  1.100000e+01   \n",
       "50%           1.319000e+03    1.329000e+03    -1.000000e+00  1.400000e+01   \n",
       "75%           1.720000e+03    1.731000e+03     1.100000e+01  1.900000e+01   \n",
       "max           2.359000e+03    2.400000e+03     1.988000e+03  2.250000e+02   \n",
       "\n",
       "         WHEELS_OFF  ...  SCHEDULED_ARRIVAL  ARRIVAL_TIME  ARRIVAL_DELAY  \\\n",
       "count  1.008346e+06  ...       1.048575e+06  1.007279e+06   1.005504e+06   \n",
       "mean   1.357382e+03  ...       1.504820e+03  1.492204e+03   7.612191e+00   \n",
       "std    4.830351e+02  ...       4.865613e+02  5.071090e+02   4.209367e+01   \n",
       "min    1.000000e+00  ...       1.000000e+00  1.000000e+00  -8.200000e+01   \n",
       "25%    9.440000e+02  ...       1.120000e+03  1.115000e+03  -1.200000e+01   \n",
       "50%    1.342000e+03  ...       1.524000e+03  1.521000e+03  -3.000000e+00   \n",
       "75%    1.745000e+03  ...       1.915000e+03  1.917000e+03   1.200000e+01   \n",
       "max    2.400000e+03  ...       2.359000e+03  2.400000e+03   1.971000e+03   \n",
       "\n",
       "           DIVERTED     CANCELLED  AIR_SYSTEM_DELAY  SECURITY_DELAY  \\\n",
       "count  1.048575e+06  1.048575e+06     228528.000000   228528.000000   \n",
       "mean   2.426150e-03  3.864960e-02         13.692554        0.057328   \n",
       "std    4.919620e-02  1.927585e-01         25.524897        1.779647   \n",
       "min    0.000000e+00  0.000000e+00          0.000000        0.000000   \n",
       "25%    0.000000e+00  0.000000e+00          0.000000        0.000000   \n",
       "50%    0.000000e+00  0.000000e+00          4.000000        0.000000   \n",
       "75%    0.000000e+00  0.000000e+00         19.000000        0.000000   \n",
       "max    1.000000e+00  1.000000e+00        830.000000      241.000000   \n",
       "\n",
       "       AIRLINE_DELAY  LATE_AIRCRAFT_DELAY  WEATHER_DELAY  \n",
       "count  228528.000000        228528.000000  228528.000000  \n",
       "mean       18.203577            22.921458       3.545277  \n",
       "std        46.323146            41.888498      23.611555  \n",
       "min         0.000000             0.000000       0.000000  \n",
       "25%         0.000000             0.000000       0.000000  \n",
       "50%         2.000000             4.000000       0.000000  \n",
       "75%        18.000000            29.000000       0.000000  \n",
       "max      1971.000000          1313.000000    1152.000000  \n",
       "\n",
       "[8 rows x 26 columns]"
      ]
     },
     "execution_count": 15,
     "metadata": {},
     "output_type": "execute_result"
    }
   ],
   "source": [
    "df.describe()"
   ]
  },
  {
   "cell_type": "markdown",
   "metadata": {},
   "source": [
    "Identify and count duplicate rows:-"
   ]
  },
  {
   "cell_type": "code",
   "execution_count": 16,
   "metadata": {},
   "outputs": [
    {
     "data": {
      "text/plain": [
       "np.int64(0)"
      ]
     },
     "execution_count": 16,
     "metadata": {},
     "output_type": "execute_result"
    }
   ],
   "source": [
    "df.duplicated().sum()"
   ]
  },
  {
   "cell_type": "code",
   "execution_count": 17,
   "metadata": {},
   "outputs": [
    {
     "data": {
      "text/plain": [
       "Index(['YEAR', 'MONTH', 'DAY', 'DAY_OF_WEEK', 'AIRLINE', 'FLIGHT_NUMBER',\n",
       "       'TAIL_NUMBER', 'ORIGIN_AIRPORT', 'DESTINATION_AIRPORT',\n",
       "       'SCHEDULED_DEPARTURE', 'DEPARTURE_TIME', 'DEPARTURE_DELAY', 'TAXI_OUT',\n",
       "       'WHEELS_OFF', 'SCHEDULED_TIME', 'ELAPSED_TIME', 'AIR_TIME', 'DISTANCE',\n",
       "       'WHEELS_ON', 'TAXI_IN', 'SCHEDULED_ARRIVAL', 'ARRIVAL_TIME',\n",
       "       'ARRIVAL_DELAY', 'DIVERTED', 'CANCELLED', 'CANCELLATION_REASON',\n",
       "       'AIR_SYSTEM_DELAY', 'SECURITY_DELAY', 'AIRLINE_DELAY',\n",
       "       'LATE_AIRCRAFT_DELAY', 'WEATHER_DELAY'],\n",
       "      dtype='object')"
      ]
     },
     "execution_count": 17,
     "metadata": {},
     "output_type": "execute_result"
    }
   ],
   "source": [
    "df.columns"
   ]
  },
  {
   "cell_type": "code",
   "execution_count": 18,
   "metadata": {},
   "outputs": [
    {
     "data": {
      "text/plain": [
       "YEAR\n",
       "2015    1048575\n",
       "Name: count, dtype: int64"
      ]
     },
     "execution_count": 18,
     "metadata": {},
     "output_type": "execute_result"
    }
   ],
   "source": [
    "df.YEAR.value_counts()"
   ]
  },
  {
   "cell_type": "code",
   "execution_count": 19,
   "metadata": {},
   "outputs": [
    {
     "data": {
      "text/plain": [
       "MONTH\n",
       "1    469968\n",
       "2    429191\n",
       "3    149416\n",
       "Name: count, dtype: int64"
      ]
     },
     "execution_count": 19,
     "metadata": {},
     "output_type": "execute_result"
    }
   ],
   "source": [
    "df.MONTH.value_counts()"
   ]
  },
  {
   "cell_type": "code",
   "execution_count": 20,
   "metadata": {},
   "outputs": [
    {
     "data": {
      "image/png": "[encoded data removed]",
      "text/plain": [
       "<Figure size 640x480 with 1 Axes>"
      ]
     },
     "metadata": {},
     "output_type": "display_data"
    }
   ],
   "source": [
    "plt.hist(list(df[\"MONTH\"]),color=\"black\")\n",
    "\n",
    "plt.xlabel('MONTH')\n",
    "\n",
    "\n",
    "plt.ylabel('Number of Flights')\n",
    "\n",
    "\n",
    "plt.title('MONTH VS Number of Flights')\n",
    "\n",
    "plt.grid()\n",
    "\n",
    "plt.show()"
   ]
  },
  {
   "cell_type": "markdown",
   "metadata": {},
   "source": [
    "A histogram shows the distribution of flights per month."
   ]
  },
  {
   "cell_type": "markdown",
   "metadata": {},
   "source": [
    "Data Cleaning and Imputation:-"
   ]
  },
  {
   "cell_type": "code",
   "execution_count": 21,
   "metadata": {},
   "outputs": [],
   "source": [
    "cancelled_flights1 = df[(df['DEPARTURE_TIME'].isna()) & (df['ARRIVAL_TIME'].isna()) & (df['CANCELLED'] == 1) \n",
    "                        & (df['CANCELLATION_REASON'].isin([\"A\", \"B\", \"C\", \"D\"]))]\n",
    "num_cancelled_flights = cancelled_flights1.shape[0]#39515\n",
    "df=df.drop(cancelled_flights1.index)"
   ]
  },
  {
   "cell_type": "markdown",
   "metadata": {},
   "source": [
    "Calculate the number of cancelled flights that did not take off with a reason"
   ]
  },
  {
   "cell_type": "code",
   "execution_count": 22,
   "metadata": {},
   "outputs": [],
   "source": [
    "cancelled_flights2 = df[(df['DEPARTURE_TIME'].notna()) & (df['ARRIVAL_TIME'].isna()) & (df['CANCELLED'] == 1)\n",
    "                        & (df['CANCELLATION_REASON'].isin([\"A\", \"B\", \"C\", \"D\"]))]\n",
    "num_cancelled_flights = cancelled_flights2.shape[0]#1012\n",
    "df=df.drop(cancelled_flights2.index)"
   ]
  },
  {
   "cell_type": "markdown",
   "metadata": {},
   "source": [
    "Calculate the number of cancelled flights that did not arrive (take off) with a reason."
   ]
  },
  {
   "cell_type": "code",
   "execution_count": 23,
   "metadata": {},
   "outputs": [
    {
     "name": "stdout",
     "output_type": "stream",
     "text": [
      "YEAR                         0\n",
      "MONTH                        0\n",
      "DAY                          0\n",
      "DAY_OF_WEEK                  0\n",
      "AIRLINE                      0\n",
      "FLIGHT_NUMBER                0\n",
      "TAIL_NUMBER                  0\n",
      "ORIGIN_AIRPORT               0\n",
      "DESTINATION_AIRPORT          0\n",
      "SCHEDULED_DEPARTURE          0\n",
      "DEPARTURE_TIME               0\n",
      "DEPARTURE_DELAY              0\n",
      "TAXI_OUT                     0\n",
      "WHEELS_OFF                   0\n",
      "SCHEDULED_TIME               0\n",
      "ELAPSED_TIME              2544\n",
      "AIR_TIME                  2544\n",
      "DISTANCE                     0\n",
      "WHEELS_ON                  769\n",
      "TAXI_IN                    769\n",
      "SCHEDULED_ARRIVAL            0\n",
      "ARRIVAL_TIME               769\n",
      "ARRIVAL_DELAY             2544\n",
      "DIVERTED                     0\n",
      "CANCELLED                    0\n",
      "CANCELLATION_REASON    1008048\n",
      "AIR_SYSTEM_DELAY        779520\n",
      "SECURITY_DELAY          779520\n",
      "AIRLINE_DELAY           779520\n",
      "LATE_AIRCRAFT_DELAY     779520\n",
      "WEATHER_DELAY           779520\n",
      "dtype: int64\n"
     ]
    }
   ],
   "source": [
    "print(df.isnull().sum())"
   ]
  },
  {
   "cell_type": "markdown",
   "metadata": {},
   "source": [
    "calculates the number of null (or missing) values in each column of the DataFrame."
   ]
  },
  {
   "cell_type": "code",
   "execution_count": 24,
   "metadata": {},
   "outputs": [
    {
     "name": "stderr",
     "output_type": "stream",
     "text": [
      "C:\\Users\\DELL\\AppData\\Local\\Temp\\ipykernel_2020\\3548274243.py:3: FutureWarning: A value is trying to be set on a copy of a DataFrame or Series through chained assignment using an inplace method.\n",
      "The behavior will change in pandas 3.0. This inplace method will never work because the intermediate object on which we are setting values always behaves as a copy.\n",
      "\n",
      "For example, when doing 'df[col].method(value, inplace=True)', try using 'df.method({col: value}, inplace=True)' or df[col] = df[col].method(value) instead, to perform the operation inplace on the original object.\n",
      "\n",
      "\n",
      "  df['ARRIVAL_DELAY'].fillna(arrd, inplace=True)\n"
     ]
    }
   ],
   "source": [
    "if df['ARRIVAL_DELAY'].isna().any():\n",
    "    arrd=df['ARRIVAL_TIME'] - df['SCHEDULED_ARRIVAL']\n",
    "    df['ARRIVAL_DELAY'].fillna(arrd, inplace=True)"
   ]
  },
  {
   "cell_type": "markdown",
   "metadata": {},
   "source": [
    "Calculate arrival delay"
   ]
  },
  {
   "cell_type": "code",
   "execution_count": 25,
   "metadata": {},
   "outputs": [
    {
     "name": "stdout",
     "output_type": "stream",
     "text": [
      "YEAR                         0\n",
      "MONTH                        0\n",
      "DAY                          0\n",
      "DAY_OF_WEEK                  0\n",
      "AIRLINE                      0\n",
      "FLIGHT_NUMBER                0\n",
      "TAIL_NUMBER                  0\n",
      "ORIGIN_AIRPORT               0\n",
      "DESTINATION_AIRPORT          0\n",
      "SCHEDULED_DEPARTURE          0\n",
      "DEPARTURE_TIME               0\n",
      "DEPARTURE_DELAY              0\n",
      "TAXI_OUT                     0\n",
      "WHEELS_OFF                   0\n",
      "SCHEDULED_TIME               0\n",
      "ELAPSED_TIME              2544\n",
      "AIR_TIME                  2544\n",
      "DISTANCE                     0\n",
      "WHEELS_ON                  769\n",
      "TAXI_IN                    769\n",
      "SCHEDULED_ARRIVAL            0\n",
      "ARRIVAL_TIME               769\n",
      "ARRIVAL_DELAY              769\n",
      "DIVERTED                     0\n",
      "CANCELLED                    0\n",
      "CANCELLATION_REASON    1008048\n",
      "AIR_SYSTEM_DELAY        779520\n",
      "SECURITY_DELAY          779520\n",
      "AIRLINE_DELAY           779520\n",
      "LATE_AIRCRAFT_DELAY     779520\n",
      "WEATHER_DELAY           779520\n",
      "dtype: int64\n"
     ]
    }
   ],
   "source": [
    "print(df.isnull().sum())"
   ]
  },
  {
   "cell_type": "code",
   "execution_count": 26,
   "metadata": {},
   "outputs": [],
   "source": [
    "\n",
    "if (df['ARRIVAL_TIME'].isna().any() & \n",
    "    df['ARRIVAL_DELAY'].isna().any() & \n",
    "    df['CANCELLATION_REASON'].isna().any() & \n",
    "    (df['CANCELLED'] == 0).any() & \n",
    "    (df['DIVERTED'] == 1).any()):\n",
    "        arr_time_delay_fill_imputer=SimpleImputer(strategy=\"mean\")\n",
    "        df[[\"ARRIVAL_TIME\",\"ARRIVAL_DELAY\"]]=arr_time_delay_fill_imputer.fit_transform(df[[\"ARRIVAL_TIME\",\"ARRIVAL_DELAY\"]])"
   ]
  },
  {
   "cell_type": "markdown",
   "metadata": {},
   "source": [
    "Calculate arrival time and arrival delay. Arrived at another airport (took off and diverted)."
   ]
  },
  {
   "cell_type": "code",
   "execution_count": 27,
   "metadata": {},
   "outputs": [],
   "source": [
    "if (df['WHEELS_ON'].isna().any() & \n",
    "    df['TAXI_IN'].isna().any() & \n",
    "    df['CANCELLATION_REASON'].isna().any() & \n",
    "    (df['CANCELLED'] == 0).any() & \n",
    "    (df['DIVERTED'] == 1).any()):\n",
    "        taxi_wheels_onin_imputerfill=SimpleImputer(strategy=\"mean\")\n",
    "        df[[\"WHEELS_ON\",\"TAXI_IN\"]]=taxi_wheels_onin_imputerfill.fit_transform(df[[\"WHEELS_ON\",\"TAXI_IN\"]])"
   ]
  },
  {
   "cell_type": "markdown",
   "metadata": {},
   "source": [
    "Calculating WHEELS_ON and TAXI_IN for aircraft (take off and turn around)."
   ]
  },
  {
   "cell_type": "code",
   "execution_count": 28,
   "metadata": {},
   "outputs": [],
   "source": [
    "if (df['ELAPSED_TIME'].isna().any() & \n",
    "    df['AIR_TIME'].isna().any() & \n",
    "    df['CANCELLATION_REASON'].isna().any() & \n",
    "    (df['CANCELLED'] == 0).any() & \n",
    "    (df['DIVERTED'] == 1).any()):\n",
    "        airt_elapst_imputerfill=SimpleImputer(strategy=\"mean\")\n",
    "        df[[\"ELAPSED_TIME\",\"AIR_TIME\"]]=taxi_wheels_onin_imputerfill.fit_transform(df[[\"ELAPSED_TIME\",\"AIR_TIME\"]])"
   ]
  },
  {
   "cell_type": "markdown",
   "metadata": {},
   "source": [
    "Calculating ELAPSED_TIME and AIR_TIME for planes (take off and turn around)."
   ]
  },
  {
   "cell_type": "code",
   "execution_count": 29,
   "metadata": {},
   "outputs": [
    {
     "name": "stderr",
     "output_type": "stream",
     "text": [
      "C:\\Users\\DELL\\AppData\\Local\\Temp\\ipykernel_2020\\4219731054.py:1: FutureWarning: A value is trying to be set on a copy of a DataFrame or Series through chained assignment using an inplace method.\n",
      "The behavior will change in pandas 3.0. This inplace method will never work because the intermediate object on which we are setting values always behaves as a copy.\n",
      "\n",
      "For example, when doing 'df[col].method(value, inplace=True)', try using 'df.method({col: value}, inplace=True)' or df[col] = df[col].method(value) instead, to perform the operation inplace on the original object.\n",
      "\n",
      "\n",
      "  df['AIR_SYSTEM_DELAY'].fillna(0, inplace=True)\n",
      "C:\\Users\\DELL\\AppData\\Local\\Temp\\ipykernel_2020\\4219731054.py:2: FutureWarning: A value is trying to be set on a copy of a DataFrame or Series through chained assignment using an inplace method.\n",
      "The behavior will change in pandas 3.0. This inplace method will never work because the intermediate object on which we are setting values always behaves as a copy.\n",
      "\n",
      "For example, when doing 'df[col].method(value, inplace=True)', try using 'df.method({col: value}, inplace=True)' or df[col] = df[col].method(value) instead, to perform the operation inplace on the original object.\n",
      "\n",
      "\n",
      "  df['SECURITY_DELAY'].fillna(0, inplace=True)\n",
      "C:\\Users\\DELL\\AppData\\Local\\Temp\\ipykernel_2020\\4219731054.py:3: FutureWarning: A value is trying to be set on a copy of a DataFrame or Series through chained assignment using an inplace method.\n",
      "The behavior will change in pandas 3.0. This inplace method will never work because the intermediate object on which we are setting values always behaves as a copy.\n",
      "\n",
      "For example, when doing 'df[col].method(value, inplace=True)', try using 'df.method({col: value}, inplace=True)' or df[col] = df[col].method(value) instead, to perform the operation inplace on the original object.\n",
      "\n",
      "\n",
      "  df['AIRLINE_DELAY'].fillna(0, inplace=True)\n",
      "C:\\Users\\DELL\\AppData\\Local\\Temp\\ipykernel_2020\\4219731054.py:4: FutureWarning: A value is trying to be set on a copy of a DataFrame or Series through chained assignment using an inplace method.\n",
      "The behavior will change in pandas 3.0. This inplace method will never work because the intermediate object on which we are setting values always behaves as a copy.\n",
      "\n",
      "For example, when doing 'df[col].method(value, inplace=True)', try using 'df.method({col: value}, inplace=True)' or df[col] = df[col].method(value) instead, to perform the operation inplace on the original object.\n",
      "\n",
      "\n",
      "  df['LATE_AIRCRAFT_DELAY'].fillna(0, inplace=True)\n",
      "C:\\Users\\DELL\\AppData\\Local\\Temp\\ipykernel_2020\\4219731054.py:5: FutureWarning: A value is trying to be set on a copy of a DataFrame or Series through chained assignment using an inplace method.\n",
      "The behavior will change in pandas 3.0. This inplace method will never work because the intermediate object on which we are setting values always behaves as a copy.\n",
      "\n",
      "For example, when doing 'df[col].method(value, inplace=True)', try using 'df.method({col: value}, inplace=True)' or df[col] = df[col].method(value) instead, to perform the operation inplace on the original object.\n",
      "\n",
      "\n",
      "  df['WEATHER_DELAY'].fillna(0, inplace=True)\n"
     ]
    }
   ],
   "source": [
    "df['AIR_SYSTEM_DELAY'].fillna(0, inplace=True)\n",
    "df['SECURITY_DELAY'].fillna(0, inplace=True)\n",
    "df['AIRLINE_DELAY'].fillna(0, inplace=True)\n",
    "df['LATE_AIRCRAFT_DELAY'].fillna(0, inplace=True)\n",
    "df['WEATHER_DELAY'].fillna(0, inplace=True)"
   ]
  },
  {
   "cell_type": "markdown",
   "metadata": {},
   "source": [
    "Fill the null values with zeros."
   ]
  },
  {
   "cell_type": "code",
   "execution_count": 30,
   "metadata": {},
   "outputs": [
    {
     "name": "stdout",
     "output_type": "stream",
     "text": [
      "YEAR                         0\n",
      "MONTH                        0\n",
      "DAY                          0\n",
      "DAY_OF_WEEK                  0\n",
      "AIRLINE                      0\n",
      "FLIGHT_NUMBER                0\n",
      "TAIL_NUMBER                  0\n",
      "ORIGIN_AIRPORT               0\n",
      "DESTINATION_AIRPORT          0\n",
      "SCHEDULED_DEPARTURE          0\n",
      "DEPARTURE_TIME               0\n",
      "DEPARTURE_DELAY              0\n",
      "TAXI_OUT                     0\n",
      "WHEELS_OFF                   0\n",
      "SCHEDULED_TIME               0\n",
      "ELAPSED_TIME                 0\n",
      "AIR_TIME                     0\n",
      "DISTANCE                     0\n",
      "WHEELS_ON                    0\n",
      "TAXI_IN                      0\n",
      "SCHEDULED_ARRIVAL            0\n",
      "ARRIVAL_TIME                 0\n",
      "ARRIVAL_DELAY                0\n",
      "DIVERTED                     0\n",
      "CANCELLED                    0\n",
      "CANCELLATION_REASON    1008048\n",
      "AIR_SYSTEM_DELAY             0\n",
      "SECURITY_DELAY               0\n",
      "AIRLINE_DELAY                0\n",
      "LATE_AIRCRAFT_DELAY          0\n",
      "WEATHER_DELAY                0\n",
      "dtype: int64\n"
     ]
    }
   ],
   "source": [
    "print(df.isnull().sum())"
   ]
  },
  {
   "cell_type": "code",
   "execution_count": 31,
   "metadata": {},
   "outputs": [
    {
     "name": "stdout",
     "output_type": "stream",
     "text": [
      "DIVERTED\n",
      "0    1005504\n",
      "1       2544\n",
      "Name: count, dtype: int64\n"
     ]
    },
    {
     "name": "stderr",
     "output_type": "stream",
     "text": [
      "C:\\Users\\DELL\\AppData\\Local\\Temp\\ipykernel_2020\\4166828656.py:4: FutureWarning: \n",
      "\n",
      "Passing `palette` without assigning `hue` is deprecated and will be removed in v0.14.0. Assign the `x` variable to `hue` and set `legend=False` for the same effect.\n",
      "\n",
      "  sns.countplot(x='DIVERTED', data=df, palette='Set2')\n"
     ]
    },
    {
     "data": {
      "image/png": "[encoded data removed]",
      "text/plain": [
       "<Figure size 640x480 with 1 Axes>"
      ]
     },
     "metadata": {},
     "output_type": "display_data"
    }
   ],
   "source": [
    "diverted_counts = df['DIVERTED'].value_counts()\n",
    "print(diverted_counts)\n",
    "\n",
    "sns.countplot(x='DIVERTED', data=df, palette='Set2')\n",
    "\n",
    "plt.title('Distribution of diverted flights')\n",
    "plt.xlabel('diverted flights')\n",
    "plt.ylabel('Count')\n",
    "plt.xticks([0, 1], ['Not Diverted', 'Diverted'])\n",
    "plt.show()\n"
   ]
  },
  {
   "cell_type": "markdown",
   "metadata": {},
   "source": [
    "Find out which flights have been diverted, and know the percentage of flights that were diverted."
   ]
  },
  {
   "cell_type": "code",
   "execution_count": 32,
   "metadata": {},
   "outputs": [],
   "source": [
    "\n",
    "airsys_cancellation=df[(df['AIR_SYSTEM_DELAY']>0) \n",
    "                       & (df['SECURITY_DELAY'] == 0)\n",
    "                       & (df['AIRLINE_DELAY'] == 0)\n",
    "                       & (df['LATE_AIRCRAFT_DELAY'] == 0)\n",
    "                       & (df['WEATHER_DELAY'] == 0)]\n",
    "\n",
    "security_cancellation=df[(df[\"SECURITY_DELAY\"] > 0)\n",
    "                       & (df['AIR_SYSTEM_DELAY'] == 0)\n",
    "                       & (df['AIRLINE_DELAY'] == 0)\n",
    "                       & (df['LATE_AIRCRAFT_DELAY'] == 0)\n",
    "                       & (df['WEATHER_DELAY'] == 0)]\n",
    "\n",
    "airline_cancellation=df[(df[\"AIRLINE_DELAY\"] > 0) \n",
    "                       & (df['SECURITY_DELAY'] == 0)\n",
    "                       & (df['AIR_SYSTEM_DELAY'] == 0)\n",
    "                       & (df['LATE_AIRCRAFT_DELAY'] == 0)\n",
    "                       & (df['WEATHER_DELAY'] == 0)]\n",
    "\n",
    "lateaircraft_cancellation=df[(df[\"LATE_AIRCRAFT_DELAY\"] > 0) \n",
    "                       & (df['SECURITY_DELAY'] == 0)\n",
    "                       & (df['AIRLINE_DELAY'] == 0)\n",
    "                       & (df['AIR_SYSTEM_DELAY'] == 0)\n",
    "                       & (df['WEATHER_DELAY'] == 0)]\n",
    "\n",
    "weather_cancellation=df[(df[\"WEATHER_DELAY\"] > 0) \n",
    "                       & (df['SECURITY_DELAY'] == 0)\n",
    "                       & (df['AIRLINE_DELAY'] == 0)\n",
    "                       & (df['LATE_AIRCRAFT_DELAY'] == 0)\n",
    "                       & (df['AIR_SYSTEM_DELAY'] == 0)]\n"
   ]
  },
  {
   "cell_type": "markdown",
   "metadata": {},
   "source": [
    "Knowing what the cancellation reason is (only one reason)."
   ]
  },
  {
   "cell_type": "code",
   "execution_count": 33,
   "metadata": {},
   "outputs": [],
   "source": [
    "if any(airsys_cancellation):\n",
    "    aird_indexes = airsys_cancellation.index\n",
    "    df.loc[aird_indexes, 'CANCELLATION_REASON'] = df.loc[aird_indexes, 'CANCELLATION_REASON'].fillna('air system')\n",
    "\n",
    "\n",
    "\n",
    "\n",
    "\n",
    "if any(security_cancellation):\n",
    "    security_indexes = security_cancellation.index\n",
    "    df.loc[security_indexes, 'CANCELLATION_REASON'] = df.loc[security_indexes, 'CANCELLATION_REASON'].fillna('seucrity')\n",
    "\n",
    "\n",
    "\n",
    "if any(airline_cancellation):\n",
    "    airline_indexes = airline_cancellation.index\n",
    "    df.loc[airline_indexes, 'CANCELLATION_REASON'] = df.loc[airline_indexes, 'CANCELLATION_REASON'].fillna('airline')\n",
    "\n",
    "\n",
    "\n",
    "\n",
    "\n",
    "if any(lateaircraft_cancellation):\n",
    "    lateaircraft_indexes = lateaircraft_cancellation.index\n",
    "    df.loc[lateaircraft_indexes, 'CANCELLATION_REASON'] = df.loc[lateaircraft_indexes, 'CANCELLATION_REASON'].fillna('late aircraft')\n",
    "\n",
    "\n",
    "\n",
    "\n",
    "\n",
    "if any(weather_cancellation):\n",
    "    weather_indexes = weather_cancellation.index\n",
    "    df.loc[weather_indexes, 'CANCELLATION_REASON'] = df.loc[weather_indexes, 'CANCELLATION_REASON'].fillna('weather')"
   ]
  },
  {
   "cell_type": "markdown",
   "metadata": {},
   "source": [
    "After knowing the reason, we fill it in the column CANCELLATION_REASON."
   ]
  },
  {
   "cell_type": "code",
   "execution_count": 34,
   "metadata": {},
   "outputs": [],
   "source": [
    "airsys_mainly_cancellation=df[\n",
    "    (df['AIR_SYSTEM_DELAY'] > df['SECURITY_DELAY']) &\n",
    "    (df['AIR_SYSTEM_DELAY'] > df['AIRLINE_DELAY']) &\n",
    "    (df['AIR_SYSTEM_DELAY'] > df['LATE_AIRCRAFT_DELAY']) &\n",
    "    (df['AIR_SYSTEM_DELAY'] > df['WEATHER_DELAY'])\n",
    "]\n",
    "\n",
    "security_mainly_cancellation=df[\n",
    "    (df['SECURITY_DELAY'] > df['AIR_SYSTEM_DELAY']) &\n",
    "    (df['SECURITY_DELAY'] > df['AIRLINE_DELAY']) &\n",
    "    (df['SECURITY_DELAY'] > df['LATE_AIRCRAFT_DELAY']) &\n",
    "    (df['SECURITY_DELAY'] > df['WEATHER_DELAY'])\n",
    "]\n",
    "\n",
    "airline_mainly_cancellation=df[\n",
    "    (df['AIRLINE_DELAY'] > df['SECURITY_DELAY']) &\n",
    "    (df['AIRLINE_DELAY'] > df['AIR_SYSTEM_DELAY']) &\n",
    "    (df['AIRLINE_DELAY'] > df['LATE_AIRCRAFT_DELAY']) &\n",
    "    (df['AIRLINE_DELAY'] > df['WEATHER_DELAY'])\n",
    "]\n",
    "\n",
    "lateaircraft_mainly_cancellation=df[\n",
    "    (df['LATE_AIRCRAFT_DELAY'] > df['SECURITY_DELAY']) &\n",
    "    (df['LATE_AIRCRAFT_DELAY'] > df['AIRLINE_DELAY']) &\n",
    "    (df['LATE_AIRCRAFT_DELAY'] > df['AIR_SYSTEM_DELAY']) &\n",
    "    (df['LATE_AIRCRAFT_DELAY'] > df['WEATHER_DELAY'])\n",
    "]\n",
    "\n",
    "weather_mainly_cancellation=df[\n",
    "    (df['WEATHER_DELAY'] > df['SECURITY_DELAY']) &\n",
    "    (df['WEATHER_DELAY'] > df['AIRLINE_DELAY']) &\n",
    "    (df['WEATHER_DELAY'] > df['LATE_AIRCRAFT_DELAY']) &\n",
    "    (df['WEATHER_DELAY'] > df['AIR_SYSTEM_DELAY'])\n",
    "]"
   ]
  },
  {
   "cell_type": "markdown",
   "metadata": {},
   "source": [
    "Knowing the main reason for cancellation when there are two or more reasons."
   ]
  },
  {
   "cell_type": "code",
   "execution_count": 35,
   "metadata": {},
   "outputs": [],
   "source": [
    "if any(airsys_mainly_cancellation):\n",
    "    airsys_main_indexes = airsys_mainly_cancellation.index\n",
    "    df.loc[airsys_main_indexes, 'CANCELLATION_REASON'] = df.loc[airsys_main_indexes, 'CANCELLATION_REASON'].fillna('air system')\n",
    "\n",
    "\n",
    "\n",
    "if any(security_mainly_cancellation):\n",
    "    security_main_indexes = security_mainly_cancellation.index\n",
    "    df.loc[security_main_indexes, 'CANCELLATION_REASON'] = df.loc[security_main_indexes, 'CANCELLATION_REASON'].fillna('air system')\n",
    "\n",
    "if any(airline_mainly_cancellation):\n",
    "    airline_main_indexes = airline_mainly_cancellation.index\n",
    "    df.loc[airline_main_indexes, 'CANCELLATION_REASON'] = df.loc[airline_main_indexes, 'CANCELLATION_REASON'].fillna('air system')\n",
    "\n",
    "\n",
    "\n",
    "if any(lateaircraft_mainly_cancellation):\n",
    "    lateaircraft_main_indexes = lateaircraft_mainly_cancellation.index\n",
    "    df.loc[lateaircraft_main_indexes, 'CANCELLATION_REASON'] = df.loc[lateaircraft_main_indexes, 'CANCELLATION_REASON'].fillna('air system')\n",
    "\n",
    "\n",
    "\n",
    "\n",
    "if any(weather_mainly_cancellation):\n",
    "    weather_main_indexes = weather_mainly_cancellation.index\n",
    "    df.loc[weather_main_indexes, 'CANCELLATION_REASON'] = df.loc[weather_main_indexes, 'CANCELLATION_REASON'].fillna('air system')\n"
   ]
  },
  {
   "cell_type": "markdown",
   "metadata": {},
   "source": [
    "After knowing the main reason, we fill it in the column CANCELLATION_REASON."
   ]
  },
  {
   "cell_type": "code",
   "execution_count": 36,
   "metadata": {},
   "outputs": [],
   "source": [
    "no_delay= df[(df[\"ARRIVAL_DELAY\"] <= 0) & (df['CANCELLED'] == 0)]\n",
    "\n",
    "if any(no_delay):\n",
    "    indexes_nd = no_delay.index\n",
    "    df.loc[indexes_nd, 'CANCELLATION_REASON'] = df.loc[indexes_nd, 'CANCELLATION_REASON'].fillna('no cancel no delay')"
   ]
  },
  {
   "cell_type": "markdown",
   "metadata": {},
   "source": [
    "Identify non-delayed aircraft."
   ]
  },
  {
   "cell_type": "code",
   "execution_count": 37,
   "metadata": {},
   "outputs": [],
   "source": [
    "delay= df[(df[\"ARRIVAL_DELAY\"] > 0) & (df['CANCELLED'] == 0)]\n",
    "\n",
    "if any(delay):\n",
    "    indexes_d = delay.index\n",
    "    df.loc[indexes_d, 'CANCELLATION_REASON'] = df.loc[indexes_d, 'CANCELLATION_REASON'].fillna('no cancel delay')\n"
   ]
  },
  {
   "cell_type": "markdown",
   "metadata": {},
   "source": [
    "Identify delayed aircraft."
   ]
  },
  {
   "cell_type": "code",
   "execution_count": 38,
   "metadata": {},
   "outputs": [
    {
     "name": "stdout",
     "output_type": "stream",
     "text": [
      "YEAR                   0\n",
      "MONTH                  0\n",
      "DAY                    0\n",
      "DAY_OF_WEEK            0\n",
      "AIRLINE                0\n",
      "FLIGHT_NUMBER          0\n",
      "TAIL_NUMBER            0\n",
      "ORIGIN_AIRPORT         0\n",
      "DESTINATION_AIRPORT    0\n",
      "SCHEDULED_DEPARTURE    0\n",
      "DEPARTURE_TIME         0\n",
      "DEPARTURE_DELAY        0\n",
      "TAXI_OUT               0\n",
      "WHEELS_OFF             0\n",
      "SCHEDULED_TIME         0\n",
      "ELAPSED_TIME           0\n",
      "AIR_TIME               0\n",
      "DISTANCE               0\n",
      "WHEELS_ON              0\n",
      "TAXI_IN                0\n",
      "SCHEDULED_ARRIVAL      0\n",
      "ARRIVAL_TIME           0\n",
      "ARRIVAL_DELAY          0\n",
      "DIVERTED               0\n",
      "CANCELLED              0\n",
      "CANCELLATION_REASON    0\n",
      "AIR_SYSTEM_DELAY       0\n",
      "SECURITY_DELAY         0\n",
      "AIRLINE_DELAY          0\n",
      "LATE_AIRCRAFT_DELAY    0\n",
      "WEATHER_DELAY          0\n",
      "dtype: int64\n"
     ]
    }
   ],
   "source": [
    "print(df.isnull().sum())"
   ]
  },
  {
   "cell_type": "code",
   "execution_count": 39,
   "metadata": {},
   "outputs": [
    {
     "name": "stdout",
     "output_type": "stream",
     "text": [
      "CANCELLATION_REASON\n",
      "no cancel no delay    581626\n",
      "no cancel delay       199974\n",
      "air system            169585\n",
      "airline                28047\n",
      "late aircraft          26017\n",
      "weather                 2704\n",
      "seucrity                  95\n",
      "Name: count, dtype: int64\n"
     ]
    },
    {
     "name": "stderr",
     "output_type": "stream",
     "text": [
      "C:\\Users\\DELL\\AppData\\Local\\Temp\\ipykernel_2020\\235597409.py:4: FutureWarning: \n",
      "\n",
      "Passing `palette` without assigning `hue` is deprecated and will be removed in v0.14.0. Assign the `x` variable to `hue` and set `legend=False` for the same effect.\n",
      "\n",
      "  sns.countplot(x='CANCELLATION_REASON', data=df, palette='Set2')\n"
     ]
    },
    {
     "data": {
      "image/png": "[encoded data removed]",
      "text/plain": [
       "<Figure size 640x480 with 1 Axes>"
      ]
     },
     "metadata": {},
     "output_type": "display_data"
    }
   ],
   "source": [
    "cancellation_counts = df['CANCELLATION_REASON'].value_counts()\n",
    "print(cancellation_counts)\n",
    "\n",
    "sns.countplot(x='CANCELLATION_REASON', data=df, palette='Set2')\n",
    "\n",
    "plt.title('Distribution of Cancellation Reasons')\n",
    "plt.xlabel('Cancellation Reason')\n",
    "plt.ylabel('Count')\n",
    "plt.xticks(rotation=90)  \n",
    "plt.show()"
   ]
  },
  {
   "cell_type": "markdown",
   "metadata": {},
   "source": [
    "Visual representations are created to identify cancellations due to specific delays using multiple conditional filters and non-cancelled ones."
   ]
  },
  {
   "cell_type": "code",
   "execution_count": 40,
   "metadata": {},
   "outputs": [
    {
     "data": {
      "image/png": "[encoded data removed]",
      "text/plain": [
       "<Figure size 1000x600 with 2 Axes>"
      ]
     },
     "metadata": {},
     "output_type": "display_data"
    }
   ],
   "source": [
    "airline_delays = df.groupby('AIRLINE')[['AIR_SYSTEM_DELAY', 'AIRLINE_DELAY', 'SECURITY_DELAY', 'LATE_AIRCRAFT_DELAY', 'WEATHER_DELAY']].sum()\n",
    "\n",
    "plt.figure(figsize=(10, 6))\n",
    "sns.heatmap(airline_delays, annot=True, cmap='Blues', fmt='g')\n",
    "\n",
    "plt.title('Heatmap of Delays by Airline and Type of Delay')\n",
    "plt.xlabel('Type of Delay')\n",
    "plt.ylabel('Airline')\n",
    "plt.tight_layout()\n",
    "plt.show()\n"
   ]
  },
  {
   "cell_type": "markdown",
   "metadata": {},
   "source": [
    "Total delays for each airline."
   ]
  },
  {
   "cell_type": "code",
   "execution_count": 56,
   "metadata": {},
   "outputs": [],
   "source": [
    "label_encoder=LabelEncoder()\n",
    "df['AIRLINE'] = label_encoder.fit_transform(df['AIRLINE'])\n",
    "df['TAIL_NUMBER'] = label_encoder.fit_transform(df['TAIL_NUMBER'])\n",
    "df['ORIGIN_AIRPORT'] = label_encoder.fit_transform(df['ORIGIN_AIRPORT'])\n",
    "df['DESTINATION_AIRPORT'] = label_encoder.fit_transform(df['DESTINATION_AIRPORT'])"
   ]
  },
  {
   "cell_type": "markdown",
   "metadata": {},
   "source": [
    "to convert categorical data into numbers."
   ]
  },
  {
   "cell_type": "code",
   "execution_count": 41,
   "metadata": {},
   "outputs": [],
   "source": [
    "sc=StandardScaler()\n",
    "\n",
    "df[[\n",
    "        'SCHEDULED_DEPARTURE', 'DEPARTURE_TIME', 'DEPARTURE_DELAY',\n",
    "        'SCHEDULED_TIME', 'DISTANCE','SCHEDULED_ARRIVAL', 'ARRIVAL_TIME',\n",
    "     'ARRIVAL_DELAY', 'DIVERTED', 'CANCELLED']] = sc.fit_transform(df[[\n",
    "             'SCHEDULED_DEPARTURE', 'DEPARTURE_TIME', 'DEPARTURE_DELAY',\n",
    "             'SCHEDULED_TIME','DISTANCE','SCHEDULED_ARRIVAL', 'ARRIVAL_TIME',\n",
    "          'ARRIVAL_DELAY', 'DIVERTED', 'CANCELLED']])"
   ]
  },
  {
   "cell_type": "markdown",
   "metadata": {},
   "source": [
    "Standardize numeric columns using StandardScaler.\n",
    "StandardScaler is used to transform data so that each column has a mean of zero and a standard deviation of one.\n",
    "\n",
    "First, it calculates the mean and standard deviation of the columns, then transforms the values ​​in those columns so that the mean of each column is 0 and the standard deviation is 1."
   ]
  },
  {
   "cell_type": "code",
   "execution_count": 42,
   "metadata": {},
   "outputs": [],
   "source": [
    "x = df[[\n",
    "        'SCHEDULED_DEPARTURE', 'DEPARTURE_TIME', 'DEPARTURE_DELAY',\n",
    "        'SCHEDULED_TIME', 'DISTANCE',\n",
    "       'SCHEDULED_ARRIVAL', 'ARRIVAL_TIME',\n",
    "     'ARRIVAL_DELAY', 'DIVERTED', 'CANCELLED']].values\n",
    "\n",
    "y = df['CANCELLATION_REASON'].values\n"
   ]
  },
  {
   "cell_type": "markdown",
   "metadata": {},
   "source": [
    "Define the features and labels of the model.\n",
    "And determine the values ​​of x, y."
   ]
  },
  {
   "cell_type": "markdown",
   "metadata": {},
   "source": [
    "Train/Test split"
   ]
  },
  {
   "cell_type": "code",
   "execution_count": 60,
   "metadata": {},
   "outputs": [],
   "source": [
    "x_train, x_test, y_train, y_test=train_test_split(x,y,test_size=0.2\n",
    " ,random_state=42)"
   ]
  },
  {
   "cell_type": "markdown",
   "metadata": {},
   "source": [
    "Data is split into training and testing sets using train_test_split."
   ]
  },
  {
   "cell_type": "code",
   "execution_count": 61,
   "metadata": {},
   "outputs": [
    {
     "name": "stderr",
     "output_type": "stream",
     "text": [
      "c:\\Users\\DELL\\AppData\\Local\\Programs\\Python\\Python312\\Lib\\site-packages\\sklearn\\linear_model\\_logistic.py:469: ConvergenceWarning: lbfgs failed to converge (status=1):\n",
      "STOP: TOTAL NO. of ITERATIONS REACHED LIMIT.\n",
      "\n",
      "Increase the number of iterations (max_iter) or scale the data as shown in:\n",
      "    https://scikit-learn.org/stable/modules/preprocessing.html\n",
      "Please also refer to the documentation for alternative solver options:\n",
      "    https://scikit-learn.org/stable/modules/linear_model.html#logistic-regression\n",
      "  n_iter_i = _check_optimize_result(\n"
     ]
    }
   ],
   "source": [
    "alg_1 = LogisticRegression() \n",
    "alg_1.fit(x_train, y_train)  \n",
    "y_pred = alg_1.predict(x_test)"
   ]
  },
  {
   "cell_type": "markdown",
   "metadata": {},
   "source": [
    "A logistic regression model is initialized for training."
   ]
  },
  {
   "cell_type": "code",
   "execution_count": 63,
   "metadata": {},
   "outputs": [
    {
     "name": "stdout",
     "output_type": "stream",
     "text": [
      "0.934794901046575\n"
     ]
    }
   ],
   "source": [
    "acc_alg1 = accuracy_score(y_pred, y_test) \n",
    "print(acc_alg1)"
   ]
  },
  {
   "cell_type": "code",
   "execution_count": null,
   "metadata": {},
   "outputs": [],
   "source": [
    "svs_2=SVC(kernel=\"rbf\")\n",
    "\n",
    "svs_2.fit(x_train,y_train)\n",
    "\n",
    "y_pred2=svs_2.predict(x_test)\n",
    "\n",
    "acc_alg2 = accuracy_score(y_test, y_pred2)  \n",
    "print(\"Accuracy of SVC:\", acc_alg2)\n"
   ]
  },
  {
   "cell_type": "markdown",
   "metadata": {},
   "source": [
    "This code demonstrates how to use a Support Vector Convolutional Model (SVC) to train a model, classify data, and then evaluate performance by measuring accuracy. These steps are essential in machine learning processes to ensure the effectiveness of the model."
   ]
  }
 ],
 "metadata": {
  "kernelspec": {
   "display_name": "Python 3",
   "language": "python",
   "name": "python3"
  },
  "language_info": {
   "codemirror_mode": {
    "name": "ipython",
    "version": 3
   },
   "file_extension": ".py",
   "mimetype": "text/x-python",
   "name": "python",
   "nbconvert_exporter": "python",
   "pygments_lexer": "ipython3",
   "version": "3.12.2"
  }
 },
 "nbformat": 4,
 "nbformat_minor": 2
}
